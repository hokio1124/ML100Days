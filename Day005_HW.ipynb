{
 "cells": [
  {
   "cell_type": "markdown",
   "metadata": {},
   "source": [
    "# API 資料串接 - 以 Dcard API 實作範例\n",
    "\n",
    "* 了解 Dcard API 使用方式與回傳內容\n",
    "* 撰寫程式存取 API 且解析 JSON 格式資料\n"
   ]
  },
  {
   "cell_type": "markdown",
   "metadata": {},
   "source": [
    "## 作業目標\n",
    "\n",
    "* 請利用 API: https://www.dcard.tw/_api/forums/pet/posts?popular=true 回答下列問題：\n",
    "\n",
    "1. 這個 API 一次會回傳幾筆資料？每一筆資料包含哪些欄位？\n",
    "2. 取出每一筆資料的「標題」、「貼文時間」、「留言人數」、「按讚人數」\n",
    "3. 計算熱門/非熱門文章的「平均留言人數」與「平均按讚人數」"
   ]
  },
  {
   "cell_type": "code",
   "execution_count": 36,
   "metadata": {},
   "outputs": [
    {
     "name": "stdout",
     "output_type": "stream",
     "text": [
      "dict_keys(['id', 'title', 'excerpt', 'anonymousSchool', 'anonymousDepartment', 'pinned', 'forumId', 'replyId', 'createdAt', 'updatedAt', 'commentCount', 'likeCount', 'withNickname', 'tags', 'topics', 'meta', 'forumName', 'forumAlias', 'nsfw', 'gender', 'school', 'department', 'replyTitle', 'mediaMeta', 'reactions', 'hidden', 'customStyle', 'isSuspiciousAccount', 'isModerator', 'layout', 'spoilerAlert', 'withImages', 'withVideos', 'media', 'reportReasonText', 'excerptComments', 'postAvatar', 'verifiedBadge', 'memberType'])\n",
      "30\n"
     ]
    }
   ],
   "source": [
    "# 1. 這個 API 一次會回傳幾筆資料？每一筆資料包含哪些欄位？\n",
    "\n",
    "import requests\n",
    "import json\n",
    "\n",
    "r = requests.get('https://www.dcard.tw/_api/forums/pet/posts?popular=true')\n",
    "response = r.text\n",
    "\n",
    "data = json.loads(response)\n",
    "\n",
    "x = 0\n",
    "\n",
    "print (data[0].keys())\n",
    "print (len(data))\n",
    "\n"
   ]
  },
  {
   "cell_type": "code",
   "execution_count": 46,
   "metadata": {},
   "outputs": [
    {
     "name": "stdout",
     "output_type": "stream",
     "text": [
      "標題 我家的貓什麼都好就是很愛抓🐔🐔怎麼辦？ 貼文時間 2021-04-29T09:33:03.184Z 留言人數 20 按讚人數 338\n",
      "標題 貓用人類的馬桶！ 貼文時間 2021-04-29T11:47:25.195Z 留言人數 7 按讚人數 227\n",
      "標題 買了個貓跳台 貼文時間 2021-04-29T03:32:57.427Z 留言人數 19 按讚人數 225\n",
      "標題 不要無知的給寵物染色！ 貼文時間 2021-04-30T04:20:30.967Z 留言人數 12 按讚人數 215\n",
      "標題 澎湖浪浪屢傳攻擊事件 受害家屬：彷彿處在生死邊緣 貼文時間 2021-04-29T06:20:39.715Z 留言人數 13 按讚人數 73\n",
      "標題 奶油獅噴射肛門腺之肛門腺的秘密花園 貼文時間 2021-04-29T12:44:14.159Z 留言人數 10 按讚人數 68\n",
      "標題 所謂的…量身訂做 貼文時間 2021-04-29T10:32:46.781Z 留言人數 4 按讚人數 42\n",
      "標題 在收容所待五年的狗 貼文時間 2021-04-30T01:01:35.041Z 留言人數 2 按讚人數 38\n",
      "標題 抓！外八手手🐱 貼文時間 2021-04-29T18:14:42.224Z 留言人數 3 按讚人數 32\n",
      "標題 #問 貓咪看完醫生好像自己生悶氣 貼文時間 2021-04-29T07:22:30.649Z 留言人數 5 按讚人數 31\n",
      "標題 貓咪尾巴毛 貼文時間 2021-04-29T16:50:40.444Z 留言人數 5 按讚人數 26\n",
      "標題 #分享 #問卷 和小賓士貓相遇過程 貼文時間 2021-04-28T21:56:59.117Z 留言人數 13 按讚人數 26\n",
      "標題 越來越諧星的貓( ･᷄ὢ･᷅ ) 貼文時間 2021-04-29T10:03:18.926Z 留言人數 0 按讚人數 25\n",
      "標題 我的五隻狗狗 貼文時間 2021-04-29T08:22:45.855Z 留言人數 0 按讚人數 24\n",
      "標題 床上有東西在看著我..... 貼文時間 2021-04-29T16:51:21.272Z 留言人數 2 按讚人數 22\n",
      "標題 飼料偷偷留給愛媽會不會不好？🙈 貼文時間 2021-04-29T02:53:23.449Z 留言人數 8 按讚人數 22\n",
      "標題 逝去蛋蛋之力Day2 貼文時間 2021-04-29T09:37:42.593Z 留言人數 2 按讚人數 21\n",
      "標題 像極了在認真上班，卻狂被白目同事打擾的畫面🤣 貼文時間 2021-04-29T09:05:03.414Z 留言人數 0 按讚人數 20\n",
      "標題 這是虐貓嗎⋯⋯？ 貼文時間 2021-04-30T05:46:58.016Z 留言人數 17 按讚人數 19\n",
      "標題 一個月大的吸蜜這樣躺著是正常的嗎😳 貼文時間 2021-04-29T07:36:11.880Z 留言人數 2 按讚人數 19\n",
      "標題 急！捕獸夾貓貓 貼文時間 2021-04-29T23:28:35.759Z 留言人數 7 按讚人數 16\n",
      "標題 來蓋樓 大家一個月平均花多少錢在寵物身上? 貼文時間 2021-04-29T06:28:18.023Z 留言人數 12 按讚人數 14\n",
      "標題 自己幫貓咪拍寫真🙆‍♂️ 貼文時間 2021-04-29T12:25:47.948Z 留言人數 0 按讚人數 13\n",
      "標題 你是最可愛的小天使 貼文時間 2021-04-29T10:58:28.604Z 留言人數 4 按讚人數 12\n",
      "標題 朕驚 貼文時間 2021-04-29T19:14:34.455Z 留言人數 1 按讚人數 10\n",
      "標題 柯基教法 貼文時間 2021-04-29T17:29:16.266Z 留言人數 2 按讚人數 10\n",
      "標題 焦糖拿鐵 貼文時間 2021-04-29T14:21:10.998Z 留言人數 0 按讚人數 10\n",
      "標題 令人難過的漫畫😭 貼文時間 2021-04-30T07:17:32.314Z 留言人數 1 按讚人數 9\n",
      "標題 流浪幼貓尋找家 貼文時間 2021-04-30T04:07:50.030Z 留言人數 0 按讚人數 8\n",
      "標題 貓界DJ 順便夜店也包了 貼文時間 2021-04-30T01:37:28.707Z 留言人數 2 按讚人數 8\n"
     ]
    }
   ],
   "source": [
    "# 2. 取出每一筆資料的「標題」、「貼文時間」、「留言人數」、「按讚人數」\n",
    "\n",
    "\n",
    "for d in data:\n",
    "   print('標題',d['title'], '貼文時間',d['createdAt'], '留言人數',d['commentCount'], '按讚人數', d['likeCount'])\n",
    "    \n"
   ]
  },
  {
   "cell_type": "code",
   "execution_count": 54,
   "metadata": {},
   "outputs": [
    {
     "name": "stdout",
     "output_type": "stream",
     "text": [
      "熱門文章\n",
      "文章的平均留言人數=  4.3 文章的平均按讚人數=  48.3\n",
      "非熱門文章\n",
      "文章的平均留言人數=  4.3 文章的平均按讚人數=  48.3\n"
     ]
    }
   ],
   "source": [
    "# 3. 計算熱門/非熱門文章的「平均留言人數」與「平均按讚人數」\n",
    "\n",
    "Totalcomment = 0 \n",
    "Totallike = 0\n",
    "\n",
    "for d in data:\n",
    "   Totalcomment = Totalcomment + d['commentCount']\n",
    "   Totallike = Totallike+ d['likeCount']\n",
    "    \n",
    "print ('熱門文章')\n",
    "print ('文章的平均留言人數= ', round(Totalcomment/len(d),1), '文章的平均按讚人數= ', round(Totallike/len(d),1))\n",
    "\n",
    "f = requests.get('https://www.dcard.tw/_api/forums/pet/posts?popular=false')\n",
    "fresponse = f.text\n",
    "fdata = json.loads(fresponse)\n",
    "\n",
    "fTotalcomment = 0 \n",
    "fTotallike = 0\n",
    "\n",
    "for d in fdata:\n",
    "   fTotalcomment = fTotalcomment + d['commentCount']\n",
    "   fTotallike = fTotallike+ d['likeCount']\n",
    "    \n",
    "print ('非熱門文章')\n",
    "print ('文章的平均留言人數= ', round(fTotalcomment/len(d),1), '文章的平均按讚人數= ', round(fTotallike/len(d),1))\n"
   ]
  },
  {
   "cell_type": "code",
   "execution_count": null,
   "metadata": {},
   "outputs": [],
   "source": []
  },
  {
   "cell_type": "code",
   "execution_count": null,
   "metadata": {},
   "outputs": [],
   "source": []
  }
 ],
 "metadata": {
  "kernelspec": {
   "display_name": "Python 3",
   "language": "python",
   "name": "python3"
  },
  "language_info": {
   "codemirror_mode": {
    "name": "ipython",
    "version": 3
   },
   "file_extension": ".py",
   "mimetype": "text/x-python",
   "name": "python",
   "nbconvert_exporter": "python",
   "pygments_lexer": "ipython3",
   "version": "3.8.5"
  }
 },
 "nbformat": 4,
 "nbformat_minor": 2
}
